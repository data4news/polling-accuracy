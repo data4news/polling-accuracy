{
 "cells": [
  {
   "cell_type": "markdown",
   "metadata": {},
   "source": [
    "# Python and R"
   ]
  },
  {
   "cell_type": "code",
   "execution_count": 95,
   "metadata": {},
   "outputs": [
    {
     "name": "stdout",
     "output_type": "stream",
     "text": [
      "The rpy2.ipython extension is already loaded. To reload it, use:\n",
      "  %reload_ext rpy2.ipython\n",
      "The autoreload extension is already loaded. To reload it, use:\n",
      "  %reload_ext autoreload\n"
     ]
    }
   ],
   "source": [
    "%load_ext rpy2.ipython\n",
    "%load_ext autoreload\n",
    "%autoreload 2\n",
    "\n",
    "%matplotlib inline  \n",
    "from matplotlib import rcParams\n",
    "rcParams['figure.figsize'] = (16, 100)\n",
    "\n",
    "import warnings\n",
    "from rpy2.rinterface import RRuntimeWarning\n",
    "warnings.filterwarnings(\"ignore\") # Ignore all warnings\n",
    "# warnings.filterwarnings(\"ignore\", category=RRuntimeWarning) # Show some warnings\n",
    "\n",
    "import pandas as pd\n",
    "import numpy as np\n",
    "import matplotlib.pyplot as plt\n",
    "from IPython.display import display, HTML\n",
    "\n",
    "# show all columns on pandas dataframes\n",
    "pd.set_option('display.max_columns', None)\n"
   ]
  },
  {
   "cell_type": "code",
   "execution_count": 67,
   "metadata": {},
   "outputs": [
    {
     "data": {
      "application/javascript": [
       "// Disable auto-scrolling\n",
       "IPython.OutputArea.prototype._should_scroll = function(lines) {\n",
       "    return false;\n",
       "}\n"
      ],
      "text/plain": [
       "<IPython.core.display.Javascript object>"
      ]
     },
     "metadata": {},
     "output_type": "display_data"
    }
   ],
   "source": [
    "%%javascript\n",
    "// Disable auto-scrolling\n",
    "IPython.OutputArea.prototype._should_scroll = function(lines) {\n",
    "    return false;\n",
    "}"
   ]
  },
  {
   "cell_type": "code",
   "execution_count": 68,
   "metadata": {},
   "outputs": [],
   "source": [
    "%%R\n",
    "\n",
    "# My commonly used R imports\n",
    "\n",
    "require('tidyverse')\n"
   ]
  },
  {
   "cell_type": "markdown",
   "metadata": {},
   "source": [
    "\n",
    "# Read the data\n",
    "\n"
   ]
  },
  {
   "cell_type": "markdown",
   "metadata": {},
   "source": [
    "The cell below loads the data in python:"
   ]
  },
  {
   "cell_type": "code",
   "execution_count": 96,
   "metadata": {},
   "outputs": [
    {
     "data": {
      "text/html": [
       "<div>\n",
       "<style scoped>\n",
       "    .dataframe tbody tr th:only-of-type {\n",
       "        vertical-align: middle;\n",
       "    }\n",
       "\n",
       "    .dataframe tbody tr th {\n",
       "        vertical-align: top;\n",
       "    }\n",
       "\n",
       "    .dataframe thead th {\n",
       "        text-align: right;\n",
       "    }\n",
       "</style>\n",
       "<table border=\"1\" class=\"dataframe\">\n",
       "  <thead>\n",
       "    <tr style=\"text-align: right;\">\n",
       "      <th></th>\n",
       "      <th>poll_id</th>\n",
       "      <th>question_id</th>\n",
       "      <th>race_id</th>\n",
       "      <th>year</th>\n",
       "      <th>race</th>\n",
       "      <th>location</th>\n",
       "      <th>type_simple</th>\n",
       "      <th>type_detail</th>\n",
       "      <th>pollster</th>\n",
       "      <th>pollster_rating_id</th>\n",
       "      <th>methodology</th>\n",
       "      <th>partisan</th>\n",
       "      <th>polldate</th>\n",
       "      <th>samplesize</th>\n",
       "      <th>cand1_name</th>\n",
       "      <th>cand1_id</th>\n",
       "      <th>cand1_party</th>\n",
       "      <th>cand1_pct</th>\n",
       "      <th>cand2_name</th>\n",
       "      <th>cand2_id</th>\n",
       "      <th>cand2_party</th>\n",
       "      <th>cand2_pct</th>\n",
       "      <th>cand3_pct</th>\n",
       "      <th>margin_poll</th>\n",
       "      <th>electiondate</th>\n",
       "      <th>cand1_actual</th>\n",
       "      <th>cand2_actual</th>\n",
       "      <th>margin_actual</th>\n",
       "      <th>bias</th>\n",
       "      <th>rightcall</th>\n",
       "      <th>comment</th>\n",
       "    </tr>\n",
       "  </thead>\n",
       "  <tbody>\n",
       "    <tr>\n",
       "      <th>3727</th>\n",
       "      <td>2399</td>\n",
       "      <td>2983</td>\n",
       "      <td>7402</td>\n",
       "      <td>2008</td>\n",
       "      <td>2008_Pres-D_OH</td>\n",
       "      <td>OH</td>\n",
       "      <td>Pres-P</td>\n",
       "      <td>Pres-D</td>\n",
       "      <td>Fox News/Opinion Dynamics Corp.</td>\n",
       "      <td>104</td>\n",
       "      <td>Live Phone</td>\n",
       "      <td>NaN</td>\n",
       "      <td>2/27/08</td>\n",
       "      <td>600.0</td>\n",
       "      <td>Hillary Rodham Clinton</td>\n",
       "      <td>45</td>\n",
       "      <td>DEM</td>\n",
       "      <td>46.00</td>\n",
       "      <td>Barack Obama</td>\n",
       "      <td>41</td>\n",
       "      <td>DEM</td>\n",
       "      <td>38.00</td>\n",
       "      <td>NaN</td>\n",
       "      <td>8.0</td>\n",
       "      <td>3/4/08</td>\n",
       "      <td>53.49</td>\n",
       "      <td>44.84</td>\n",
       "      <td>8.66</td>\n",
       "      <td>NaN</td>\n",
       "      <td>1.0</td>\n",
       "      <td>NaN</td>\n",
       "    </tr>\n",
       "    <tr>\n",
       "      <th>1753</th>\n",
       "      <td>64084</td>\n",
       "      <td>117912</td>\n",
       "      <td>7264</td>\n",
       "      <td>2004</td>\n",
       "      <td>2004_Pres-D_CA</td>\n",
       "      <td>CA</td>\n",
       "      <td>Pres-P</td>\n",
       "      <td>Pres-D</td>\n",
       "      <td>SurveyUSA</td>\n",
       "      <td>325</td>\n",
       "      <td>IVR</td>\n",
       "      <td>NaN</td>\n",
       "      <td>2/15/04</td>\n",
       "      <td>573.0</td>\n",
       "      <td>John Kerry</td>\n",
       "      <td>157</td>\n",
       "      <td>DEM</td>\n",
       "      <td>59.00</td>\n",
       "      <td>John Edwards</td>\n",
       "      <td>165</td>\n",
       "      <td>DEM</td>\n",
       "      <td>14.00</td>\n",
       "      <td>NaN</td>\n",
       "      <td>45.0</td>\n",
       "      <td>3/2/04</td>\n",
       "      <td>64.44</td>\n",
       "      <td>19.77</td>\n",
       "      <td>44.67</td>\n",
       "      <td>NaN</td>\n",
       "      <td>1.0</td>\n",
       "      <td>NaN</td>\n",
       "    </tr>\n",
       "    <tr>\n",
       "      <th>10752</th>\n",
       "      <td>73886</td>\n",
       "      <td>138618</td>\n",
       "      <td>7781</td>\n",
       "      <td>2020</td>\n",
       "      <td>2020_Sen-GSR_GA</td>\n",
       "      <td>GA</td>\n",
       "      <td>Sen-G</td>\n",
       "      <td>Sen-GSR</td>\n",
       "      <td>Opinion Savvy/InsiderAdvantage</td>\n",
       "      <td>243</td>\n",
       "      <td>IVR/Live Phone</td>\n",
       "      <td>NaN</td>\n",
       "      <td>12/22/20</td>\n",
       "      <td>500.0</td>\n",
       "      <td>Raphael Warnock</td>\n",
       "      <td>14489</td>\n",
       "      <td>DEM</td>\n",
       "      <td>48.50</td>\n",
       "      <td>Kelly Loeffler</td>\n",
       "      <td>13671</td>\n",
       "      <td>REP</td>\n",
       "      <td>47.30</td>\n",
       "      <td>NaN</td>\n",
       "      <td>1.2</td>\n",
       "      <td>1/5/21</td>\n",
       "      <td>51.04</td>\n",
       "      <td>48.96</td>\n",
       "      <td>2.08</td>\n",
       "      <td>-0.88</td>\n",
       "      <td>1.0</td>\n",
       "      <td>for Fox 5 Atlanta</td>\n",
       "    </tr>\n",
       "    <tr>\n",
       "      <th>8061</th>\n",
       "      <td>47349</td>\n",
       "      <td>74135</td>\n",
       "      <td>94</td>\n",
       "      <td>2016</td>\n",
       "      <td>2016_Pres-G_US</td>\n",
       "      <td>US</td>\n",
       "      <td>Pres-G</td>\n",
       "      <td>Pres-G</td>\n",
       "      <td>Ipsos</td>\n",
       "      <td>154</td>\n",
       "      <td>Online</td>\n",
       "      <td>NaN</td>\n",
       "      <td>10/20/16</td>\n",
       "      <td>1153.0</td>\n",
       "      <td>Hillary Rodham Clinton</td>\n",
       "      <td>9207</td>\n",
       "      <td>DEM</td>\n",
       "      <td>44.15</td>\n",
       "      <td>Donald Trump</td>\n",
       "      <td>9849</td>\n",
       "      <td>REP</td>\n",
       "      <td>35.45</td>\n",
       "      <td>6.6</td>\n",
       "      <td>8.7</td>\n",
       "      <td>11/8/16</td>\n",
       "      <td>48.13</td>\n",
       "      <td>46.03</td>\n",
       "      <td>2.10</td>\n",
       "      <td>6.60</td>\n",
       "      <td>1.0</td>\n",
       "      <td>for Reuters; average of multiple versions or t...</td>\n",
       "    </tr>\n",
       "    <tr>\n",
       "      <th>8188</th>\n",
       "      <td>47528</td>\n",
       "      <td>74323</td>\n",
       "      <td>85</td>\n",
       "      <td>2016</td>\n",
       "      <td>2016_Sen-G_NH</td>\n",
       "      <td>NH</td>\n",
       "      <td>Sen-G</td>\n",
       "      <td>Sen-G</td>\n",
       "      <td>Monmouth University</td>\n",
       "      <td>215</td>\n",
       "      <td>Live Phone</td>\n",
       "      <td>NaN</td>\n",
       "      <td>10/24/16</td>\n",
       "      <td>401.0</td>\n",
       "      <td>Margaret Wood Hassan</td>\n",
       "      <td>9007</td>\n",
       "      <td>DEM</td>\n",
       "      <td>46.00</td>\n",
       "      <td>Kelly Ayotte</td>\n",
       "      <td>9019</td>\n",
       "      <td>REP</td>\n",
       "      <td>46.00</td>\n",
       "      <td>NaN</td>\n",
       "      <td>0.0</td>\n",
       "      <td>11/8/16</td>\n",
       "      <td>47.98</td>\n",
       "      <td>47.84</td>\n",
       "      <td>0.14</td>\n",
       "      <td>-0.14</td>\n",
       "      <td>0.5</td>\n",
       "      <td>NaN</td>\n",
       "    </tr>\n",
       "  </tbody>\n",
       "</table>\n",
       "</div>"
      ],
      "text/plain": [
       "       poll_id  question_id  race_id  year             race location  \\\n",
       "3727      2399         2983     7402  2008   2008_Pres-D_OH       OH   \n",
       "1753     64084       117912     7264  2004   2004_Pres-D_CA       CA   \n",
       "10752    73886       138618     7781  2020  2020_Sen-GSR_GA       GA   \n",
       "8061     47349        74135       94  2016   2016_Pres-G_US       US   \n",
       "8188     47528        74323       85  2016    2016_Sen-G_NH       NH   \n",
       "\n",
       "      type_simple type_detail                         pollster  \\\n",
       "3727       Pres-P      Pres-D  Fox News/Opinion Dynamics Corp.   \n",
       "1753       Pres-P      Pres-D                        SurveyUSA   \n",
       "10752       Sen-G     Sen-GSR   Opinion Savvy/InsiderAdvantage   \n",
       "8061       Pres-G      Pres-G                            Ipsos   \n",
       "8188        Sen-G       Sen-G              Monmouth University   \n",
       "\n",
       "       pollster_rating_id     methodology partisan  polldate  samplesize  \\\n",
       "3727                  104      Live Phone      NaN   2/27/08       600.0   \n",
       "1753                  325             IVR      NaN   2/15/04       573.0   \n",
       "10752                 243  IVR/Live Phone      NaN  12/22/20       500.0   \n",
       "8061                  154          Online      NaN  10/20/16      1153.0   \n",
       "8188                  215      Live Phone      NaN  10/24/16       401.0   \n",
       "\n",
       "                   cand1_name  cand1_id cand1_party  cand1_pct  \\\n",
       "3727   Hillary Rodham Clinton        45         DEM      46.00   \n",
       "1753               John Kerry       157         DEM      59.00   \n",
       "10752         Raphael Warnock     14489         DEM      48.50   \n",
       "8061   Hillary Rodham Clinton      9207         DEM      44.15   \n",
       "8188     Margaret Wood Hassan      9007         DEM      46.00   \n",
       "\n",
       "           cand2_name  cand2_id cand2_party  cand2_pct  cand3_pct  \\\n",
       "3727     Barack Obama        41         DEM      38.00        NaN   \n",
       "1753     John Edwards       165         DEM      14.00        NaN   \n",
       "10752  Kelly Loeffler     13671         REP      47.30        NaN   \n",
       "8061     Donald Trump      9849         REP      35.45        6.6   \n",
       "8188     Kelly Ayotte      9019         REP      46.00        NaN   \n",
       "\n",
       "       margin_poll electiondate  cand1_actual  cand2_actual  margin_actual  \\\n",
       "3727           8.0       3/4/08         53.49         44.84           8.66   \n",
       "1753          45.0       3/2/04         64.44         19.77          44.67   \n",
       "10752          1.2       1/5/21         51.04         48.96           2.08   \n",
       "8061           8.7      11/8/16         48.13         46.03           2.10   \n",
       "8188           0.0      11/8/16         47.98         47.84           0.14   \n",
       "\n",
       "       bias  rightcall                                            comment  \n",
       "3727    NaN        1.0                                                NaN  \n",
       "1753    NaN        1.0                                                NaN  \n",
       "10752 -0.88        1.0                                  for Fox 5 Atlanta  \n",
       "8061   6.60        1.0  for Reuters; average of multiple versions or t...  \n",
       "8188  -0.14        0.5                                                NaN  "
      ]
     },
     "execution_count": 96,
     "metadata": {},
     "output_type": "execute_result"
    }
   ],
   "source": [
    "df = pd.read_csv('raw-polls.csv')\n",
    "df.sample(5)"
   ]
  },
  {
   "cell_type": "markdown",
   "metadata": {},
   "source": [
    "The cell below loads the same data in R:"
   ]
  },
  {
   "cell_type": "code",
   "execution_count": 97,
   "metadata": {},
   "outputs": [
    {
     "name": "stdout",
     "output_type": "stream",
     "text": [
      "Rows: 10776 Columns: 31\n",
      "── Column specification ────────────────────────────────────────────────────────\n",
      "Delimiter: \",\"\n",
      "chr (14): race, location, type_simple, type_detail, pollster, methodology, p...\n",
      "dbl (17): poll_id, question_id, race_id, year, pollster_rating_id, samplesiz...\n",
      "\n",
      "ℹ Use `spec()` to retrieve the full column specification for this data.\n",
      "ℹ Specify the column types or set `show_col_types = FALSE` to quiet this message.\n",
      "# A tibble: 10,776 × 31\n",
      "   poll_id questio…¹ race_id  year race  locat…² type_…³ type_…⁴ polls…⁵ polls…⁶\n",
      "     <dbl>     <dbl>   <dbl> <dbl> <chr> <chr>   <chr>   <chr>   <chr>     <dbl>\n",
      " 1   26013     87909    1455  1998 1998… NY      Gov-G   Gov-G   Blum &…      32\n",
      " 2   26255     87926    1456  1998 1998… OH      Gov-G   Gov-G   Univer…     346\n",
      " 3   26026     31266    1736  1998 1998… NV      Sen-G   Sen-G   FM3 Re…      91\n",
      " 4   26013     31253    1738  1998 1998… NY      Sen-G   Sen-G   Blum &…      32\n",
      " 5   63632    117103    1738  1998 1998… NY      Sen-G   Sen-G   Garin-…     113\n",
      " 6   26255     31495    1741  1998 1998… OH      Sen-G   Sen-G   Univer…     346\n",
      " 7   64053    117875    1966  1998 1998… ID-1    House-G House-G Garin-…     113\n",
      " 8   64053    117876    1967  1998 1998… ID-2    House-G House-G Garin-…     113\n",
      " 9   28268     33546    8661  1998 1998… US      House-G House-G CBS Ne…      36\n",
      "10   28267     33545    8661  1998 1998… US      House-G House-G Zogby …     395\n",
      "# … with 10,766 more rows, 21 more variables: methodology <chr>,\n",
      "#   partisan <chr>, polldate <chr>, samplesize <dbl>, cand1_name <chr>,\n",
      "#   cand1_id <dbl>, cand1_party <chr>, cand1_pct <dbl>, cand2_name <chr>,\n",
      "#   cand2_id <dbl>, cand2_party <chr>, cand2_pct <dbl>, cand3_pct <dbl>,\n",
      "#   margin_poll <dbl>, electiondate <chr>, cand1_actual <dbl>,\n",
      "#   cand2_actual <dbl>, margin_actual <dbl>, bias <dbl>, rightcall <dbl>,\n",
      "#   comment <chr>, and abbreviated variable names ¹​question_id, ²​location, …\n",
      "# ℹ Use `print(n = ...)` to see more rows, and `colnames()` to see all variable names\n"
     ]
    }
   ],
   "source": [
    "%%R\n",
    "\n",
    "df <- read_csv('raw-polls.csv')\n",
    "\n",
    "df"
   ]
  },
  {
   "cell_type": "markdown",
   "metadata": {},
   "source": [
    "# Guided Exploration\n",
    "\n",
    "In this section you'll make a few charts to explore the data. Here I will raise some questions for you to dig around in the data and answer. You can use summary statistics and/or charts to help answer the questions. You will have to make some methodological choices along the way. Be aware of what choices you're making! I'll ask you about them shortly.\n",
    "\n",
    "\n",
    "## Question 1: How accurate are polls from the following pollsters?\n",
    "Characterize the accuracy of each of these pollsters in a sentence or two. Then, write another few sentences justifying your characterization with insights from the data.\n",
    "- Siena College/The New York Times Upshot\n",
    "- Jayhawk Consulting\n",
    "- Fox News/Beacon Research/Shaw & Co. Research\n",
    "- Brown University\n",
    "- American Research Group\n"
   ]
  },
  {
   "cell_type": "markdown",
   "metadata": {},
   "source": [
    "👉 **Siena College/The New York Times Upshot** "
   ]
  },
  {
   "cell_type": "code",
   "execution_count": null,
   "metadata": {},
   "outputs": [],
   "source": []
  },
  {
   "cell_type": "code",
   "execution_count": null,
   "metadata": {},
   "outputs": [],
   "source": []
  },
  {
   "cell_type": "markdown",
   "metadata": {},
   "source": [
    "👉 **Jayhawk Consulting**"
   ]
  },
  {
   "cell_type": "code",
   "execution_count": null,
   "metadata": {},
   "outputs": [],
   "source": []
  },
  {
   "cell_type": "code",
   "execution_count": null,
   "metadata": {},
   "outputs": [],
   "source": []
  },
  {
   "cell_type": "markdown",
   "metadata": {},
   "source": [
    "👉 **Fox News/Beacon Research/Shaw & Co. Research**"
   ]
  },
  {
   "cell_type": "code",
   "execution_count": null,
   "metadata": {},
   "outputs": [],
   "source": []
  },
  {
   "cell_type": "code",
   "execution_count": null,
   "metadata": {},
   "outputs": [],
   "source": []
  },
  {
   "cell_type": "markdown",
   "metadata": {},
   "source": [
    "👉 **Brown University**"
   ]
  },
  {
   "cell_type": "code",
   "execution_count": null,
   "metadata": {},
   "outputs": [],
   "source": []
  },
  {
   "cell_type": "code",
   "execution_count": null,
   "metadata": {},
   "outputs": [],
   "source": []
  },
  {
   "cell_type": "markdown",
   "metadata": {},
   "source": [
    "👉 **American Research Group**"
   ]
  },
  {
   "cell_type": "code",
   "execution_count": null,
   "metadata": {},
   "outputs": [],
   "source": []
  },
  {
   "cell_type": "code",
   "execution_count": null,
   "metadata": {},
   "outputs": [],
   "source": []
  },
  {
   "cell_type": "markdown",
   "metadata": {},
   "source": [
    "### Question 2: Which pollsters are the most accurate? Which are the least accurate?"
   ]
  },
  {
   "cell_type": "markdown",
   "metadata": {},
   "source": [
    "👉 Which pollsters are the most accurate?"
   ]
  },
  {
   "cell_type": "code",
   "execution_count": null,
   "metadata": {},
   "outputs": [],
   "source": []
  },
  {
   "cell_type": "code",
   "execution_count": null,
   "metadata": {},
   "outputs": [],
   "source": []
  },
  {
   "cell_type": "code",
   "execution_count": null,
   "metadata": {},
   "outputs": [],
   "source": []
  },
  {
   "cell_type": "markdown",
   "metadata": {},
   "source": [
    "👉 Which are the least accurate?"
   ]
  },
  {
   "cell_type": "code",
   "execution_count": null,
   "metadata": {},
   "outputs": [],
   "source": []
  },
  {
   "cell_type": "code",
   "execution_count": null,
   "metadata": {},
   "outputs": [],
   "source": []
  },
  {
   "cell_type": "code",
   "execution_count": null,
   "metadata": {},
   "outputs": [],
   "source": []
  },
  {
   "cell_type": "markdown",
   "metadata": {},
   "source": [
    "### Question 2 Reflections"
   ]
  },
  {
   "cell_type": "markdown",
   "metadata": {},
   "source": [
    "👉 Write a summary paragraph explaining how you decided what constitutes “most accurate” and \"least accurate\"?\n"
   ]
  },
  {
   "cell_type": "code",
   "execution_count": null,
   "metadata": {},
   "outputs": [],
   "source": []
  },
  {
   "cell_type": "markdown",
   "metadata": {},
   "source": [
    "👉 In bullet point form, name **methodological choices** you made in the process of determining which pollsters were the most and least accurate.\n"
   ]
  },
  {
   "cell_type": "code",
   "execution_count": null,
   "metadata": {},
   "outputs": [],
   "source": []
  },
  {
   "cell_type": "markdown",
   "metadata": {},
   "source": [
    "👉 In bullet point form, list the **limitations** of your approach \n"
   ]
  },
  {
   "cell_type": "code",
   "execution_count": null,
   "metadata": {},
   "outputs": [],
   "source": []
  }
 ],
 "metadata": {
  "kernelspec": {
   "display_name": "Python 3 (ipykernel)",
   "language": "python",
   "name": "python3"
  },
  "language_info": {
   "codemirror_mode": {
    "name": "ipython",
    "version": 3
   },
   "file_extension": ".py",
   "mimetype": "text/x-python",
   "name": "python",
   "nbconvert_exporter": "python",
   "pygments_lexer": "ipython3",
   "version": "3.9.7"
  },
  "vscode": {
   "interpreter": {
    "hash": "34166945ca6cc351f9d38b360afe1a928411c84fd696a9e2d08d61ef3f7e4692"
   }
  }
 },
 "nbformat": 4,
 "nbformat_minor": 4
}
